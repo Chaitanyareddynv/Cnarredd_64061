{
  "cells": [
    {
      "cell_type": "markdown",
      "metadata": {
        "id": "fwfmKtR9U8cJ"
      },
      "source": [
        "This is a companion notebook for the book [Deep Learning with Python, Second Edition](https://www.manning.com/books/deep-learning-with-python-second-edition?a_aid=keras&a_bid=76564dff). For readability, it only contains runnable code blocks and section titles, and omits everything else in the book: text paragraphs, figures, and pseudocode.\n",
        "\n",
        "**If you want to be able to follow what's going on, I recommend reading the notebook side by side with your copy of the book.**\n",
        "\n",
        "This notebook was generated for TensorFlow 2.6."
      ]
    },
    {
      "cell_type": "markdown",
      "metadata": {
        "id": "IYyiEKx6U8cO"
      },
      "source": [
        "# Deep learning for timeseries"
      ]
    },
    {
      "cell_type": "markdown",
      "metadata": {
        "id": "mOMZh0gtU8cO"
      },
      "source": [
        "## Different kinds of timeseries tasks"
      ]
    },
    {
      "cell_type": "markdown",
      "metadata": {
        "id": "gegc7eyzU8cO"
      },
      "source": [
        "## A temperature-forecasting example"
      ]
    },
    {
      "cell_type": "code",
      "execution_count": 1,
      "metadata": {
        "colab": {
          "base_uri": "https://localhost:8080/",
          "height": 0
        },
        "id": "RL6EF8CuU8cP",
        "outputId": "c69e850d-a0de-49b2-8810-109d8547c33d"
      },
      "outputs": [
        {
          "output_type": "stream",
          "name": "stdout",
          "text": [
            "--2023-11-24 17:15:14--  https://s3.amazonaws.com/keras-datasets/jena_climate_2009_2016.csv.zip\n",
            "Resolving s3.amazonaws.com (s3.amazonaws.com)... 16.182.68.152, 52.217.167.184, 52.217.85.222, ...\n",
            "Connecting to s3.amazonaws.com (s3.amazonaws.com)|16.182.68.152|:443... connected.\n",
            "HTTP request sent, awaiting response... 200 OK\n",
            "Length: 13565642 (13M) [application/zip]\n",
            "Saving to: ‘jena_climate_2009_2016.csv.zip’\n",
            "\n",
            "jena_climate_2009_2 100%[===================>]  12.94M  57.9MB/s    in 0.2s    \n",
            "\n",
            "2023-11-24 17:15:14 (57.9 MB/s) - ‘jena_climate_2009_2016.csv.zip’ saved [13565642/13565642]\n",
            "\n",
            "Archive:  jena_climate_2009_2016.csv.zip\n",
            "  inflating: jena_climate_2009_2016.csv  \n",
            "  inflating: __MACOSX/._jena_climate_2009_2016.csv  \n"
          ]
        }
      ],
      "source": [
        "!wget https://s3.amazonaws.com/keras-datasets/jena_climate_2009_2016.csv.zip\n",
        "!unzip jena_climate_2009_2016.csv.zip"
      ]
    },
    {
      "cell_type": "markdown",
      "metadata": {
        "id": "VlKO07X4U8cQ"
      },
      "source": [
        "**Inspecting the data of the Jena weather dataset**"
      ]
    },
    {
      "cell_type": "code",
      "execution_count": 2,
      "metadata": {
        "colab": {
          "base_uri": "https://localhost:8080/",
          "height": 0
        },
        "id": "nGE0okK6U8cQ",
        "outputId": "cdaedd41-124d-4fb8-f128-1c92775cb63a"
      },
      "outputs": [
        {
          "output_type": "stream",
          "name": "stdout",
          "text": [
            "['\"Date Time\"', '\"p (mbar)\"', '\"T (degC)\"', '\"Tpot (K)\"', '\"Tdew (degC)\"', '\"rh (%)\"', '\"VPmax (mbar)\"', '\"VPact (mbar)\"', '\"VPdef (mbar)\"', '\"sh (g/kg)\"', '\"H2OC (mmol/mol)\"', '\"rho (g/m**3)\"', '\"wv (m/s)\"', '\"max. wv (m/s)\"', '\"wd (deg)\"']\n",
            "420451\n"
          ]
        }
      ],
      "source": [
        "import os\n",
        "fname = os.path.join(\"jena_climate_2009_2016.csv\")\n",
        "\n",
        "with open(fname) as f:\n",
        "    data = f.read()\n",
        "\n",
        "lines_data_data = data.split(\"\\n\")\n",
        "header = lines_data_data[0].split(\",\")\n",
        "lines_data_data= lines_data_data[1:]\n",
        "print(header)\n",
        "print(len(lines_data_data))"
      ]
    },
    {
      "cell_type": "markdown",
      "metadata": {
        "id": "eN_pZPvRU8cR"
      },
      "source": [
        "**Parsing the data**"
      ]
    },
    {
      "cell_type": "code",
      "execution_count": 3,
      "metadata": {
        "id": "yk76UwMjU8cR"
      },
      "outputs": [],
      "source": [
        "import numpy as np\n",
        "temperature = np.zeros((len(lines_data),))\n",
        "raw_data = np.zeros((len(lines_data), len(header) - 1))\n",
        "for i, line in enumerate(lines_data):\n",
        "    values = [float(x) for x in line.split(\",\")[1:]]\n",
        "    temperature[i] = values[1]\n",
        "    raw_data[i, :] = values[:]"
      ]
    },
    {
      "cell_type": "markdown",
      "metadata": {
        "id": "_unHhEBnU8cR"
      },
      "source": [
        "**Plotting the temperature timeseries**"
      ]
    },
    {
      "cell_type": "code",
      "execution_count": 5,
      "metadata": {
        "colab": {
          "base_uri": "https://localhost:8080/",
          "height": 451
        },
        "id": "gVb8kZGcU8cR",
        "outputId": "34c0d0f1-6b8a-46d9-93e2-2c55507491eb"
      },
      "outputs": [
        {
          "output_type": "execute_result",
          "data": {
            "text/plain": [
              "[<matplotlib.lines.Line2D at 0x7bb2a9f0ed70>]"
            ]
          },
          "metadata": {},
          "execution_count": 5
        },
        {
          "output_type": "display_data",
          "data": {
            "text/plain": [
              "<Figure size 640x480 with 1 Axes>"
            ],
            "image/png": "[encoded data removed]"
          },
          "metadata": {}
        }
      ],
      "source": [
        "from matplotlib import pyplot as plt\n",
        "plt.plot(range(len(temperature)), temperature)"
      ]
    },
    {
      "cell_type": "markdown",
      "metadata": {
        "id": "NMIKD9HoU8cS"
      },
      "source": [
        "**Plotting the first 10 days of the temperature timeseries**"
      ]
    },
    {
      "cell_type": "code",
      "execution_count": 6,
      "metadata": {
        "colab": {
          "base_uri": "https://localhost:8080/",
          "height": 447
        },
        "id": "XGLa4O7tU8cS",
        "outputId": "5ffc1d9d-9159-4a17-8211-7eb13e9f4928"
      },
      "outputs": [
        {
          "output_type": "execute_result",
          "data": {
            "text/plain": [
              "[<matplotlib.lines.Line2D at 0x7bb2a329f7c0>]"
            ]
          },
          "metadata": {},
          "execution_count": 6
        },
        {
          "output_type": "display_data",
          "data": {
            "text/plain": [
              "<Figure size 640x480 with 1 Axes>"
            ],
            "image/png": "[encoded data removed]"
          },
          "metadata": {}
        }
      ],
      "source": [
        "plt.plot(range(1250), temperature[:1250])"
      ]
    },
    {
      "cell_type": "markdown",
      "metadata": {
        "id": "ko0343rHU8cS"
      },
      "source": [
        "**Computing the number of samples we'll use for each data split**"
      ]
    },
    {
      "cell_type": "code",
      "execution_count": 7,
      "metadata": {
        "colab": {
          "base_uri": "https://localhost:8080/",
          "height": 0
        },
        "id": "tgUy4Y8IU8cS",
        "outputId": "384ad761-c051-46ad-d9b6-a2cce16ae9f7"
      },
      "outputs": [
        {
          "output_type": "stream",
          "name": "stdout",
          "text": [
            "num_training_samples: 84090\n",
            "num_validation_samples: 63067\n",
            "num_test_samples: 273294\n"
          ]
        }
      ],
      "source": [
        "num_training_samples = int(0.2 * len(raw_data))\n",
        "num_validation_samples = int(0.15 * len(raw_data))\n",
        "num_test_samples = len(raw_data) - num_training_samples - num_validation_samples\n",
        "print(\"num_training_samples:\", num_training_samples)\n",
        "print(\"num_validation_samples:\", num_validation_samples)\n",
        "print(\"num_test_samples:\", num_test_samples)"
      ]
    },
    {
      "cell_type": "markdown",
      "metadata": {
        "id": "0DECgFiPU8cS"
      },
      "source": [
        "### Preparing the data"
      ]
    },
    {
      "cell_type": "markdown",
      "metadata": {
        "id": "6CPxDAxyU8cS"
      },
      "source": [
        "**Normalizing the data**"
      ]
    },
    {
      "cell_type": "code",
      "execution_count": 8,
      "metadata": {
        "id": "K0LaJhWfU8cS"
      },
      "outputs": [],
      "source": [
        "mean = raw_data[:num_training_samples].mean(axis=0)\n",
        "raw_data -= mean\n",
        "std = raw_data[:num_training_samples].std(axis=0)\n",
        "raw_data /= std"
      ]
    },
    {
      "cell_type": "code",
      "execution_count": 9,
      "metadata": {
        "colab": {
          "base_uri": "https://localhost:8080/",
          "height": 0
        },
        "id": "qCebyCWrU8cT",
        "outputId": "d6bbbcfe-1683-496e-91c0-aba91d0fcff4"
      },
      "outputs": [
        {
          "output_type": "stream",
          "name": "stdout",
          "text": [
            "[0, 1, 2, 3] 2\n",
            "[1, 2, 3, 4] 3\n",
            "[2, 3, 4, 5] 4\n",
            "[3, 4, 5, 6] 5\n",
            "[4, 5, 6, 7] 6\n"
          ]
        }
      ],
      "source": [
        "import numpy as np\n",
        "from tensorflow import keras\n",
        "initial_sequence = np.arange(10)\n",
        "dummy_data = keras.utils.timeseries_dataset_from_array(\n",
        "    data=initial_sequence[:-2],\n",
        "    targets=initial_sequence[2:],\n",
        "    sequence_length=4,\n",
        "    batch_size=1,\n",
        ")\n",
        "\n",
        "for inputs, targets in dummy_data:\n",
        "    for i in range(inputs.shape[0]):\n",
        "        print([int(x) for x in inputs[i]], int(targets[i]))"
      ]
    },
    {
      "cell_type": "markdown",
      "metadata": {
        "id": "kPjjDN7qU8cT"
      },
      "source": [
        "**Instantiating datasets for training, validation, and testing**"
      ]
    },
    {
      "cell_type": "code",
      "execution_count": 13,
      "metadata": {
        "id": "4lHyfGxEU8cT"
      },
      "outputs": [],
      "source": [
        "sampling_rate = 4\n",
        "sequence_length = 80\n",
        "delay = sampling_rate * (sequence_length + 24 - 1)\n",
        "batch_size = 128\n",
        "\n",
        "training_dataset = keras.utils.timeseries_dataset_from_array(\n",
        "    raw_data[:-delay],\n",
        "    targets=temperature[delay:],\n",
        "    sampling_rate=sampling_rate,\n",
        "    sequence_length=sequence_length,\n",
        "    shuffle=True,\n",
        "    batch_size=batch_size,\n",
        "    start_index=0,\n",
        "    end_index=num_training_samples)\n",
        "\n",
        "validation_dataset = keras.utils.timeseries_dataset_from_array(\n",
        "    raw_data[:-delay],\n",
        "    targets=temperature[delay:],\n",
        "    sampling_rate=sampling_rate,\n",
        "    sequence_length=sequence_length,\n",
        "    shuffle=True,\n",
        "    batch_size=batch_size,\n",
        "    start_index=num_training_samples,\n",
        "    end_index=num_training_samples + num_validation_samples)\n",
        "\n",
        "test_dataset = keras.utils.timeseries_dataset_from_array(\n",
        "    raw_data[:-delay],\n",
        "    targets=temperature[delay:],\n",
        "    sampling_rate=sampling_rate,\n",
        "    sequence_length=sequence_length,\n",
        "    shuffle=True,\n",
        "    batch_size=batch_size,\n",
        "    start_index=num_training_samples + num_validation_samples)"
      ]
    },
    {
      "cell_type": "markdown",
      "metadata": {
        "id": "_VNKKKCUU8cT"
      },
      "source": [
        "**Inspecting the output of one of our datasets**"
      ]
    },
    {
      "cell_type": "code",
      "execution_count": 14,
      "metadata": {
        "colab": {
          "base_uri": "https://localhost:8080/",
          "height": 0
        },
        "id": "--z5lGMvU8cT",
        "outputId": "b6091806-d4df-4aca-a418-d78184e9f91c"
      },
      "outputs": [
        {
          "output_type": "stream",
          "name": "stdout",
          "text": [
            "samples shape: (128, 80, 14)\n",
            "targets shape: (128,)\n"
          ]
        }
      ],
      "source": [
        "for samples, targets in training_dataset:\n",
        "    print(\"samples shape:\", samples.shape)\n",
        "    print(\"targets shape:\", targets.shape)\n",
        "    break"
      ]
    },
    {
      "cell_type": "markdown",
      "metadata": {
        "id": "Cz7X5eL1U8cT"
      },
      "source": [
        "### A common-sense, non-machine-learning baseline"
      ]
    },
    {
      "cell_type": "markdown",
      "metadata": {
        "id": "kSQSEP64U8cT"
      },
      "source": [
        "**Computing the common-sense baseline MAE**"
      ]
    },
    {
      "cell_type": "code",
      "execution_count": 15,
      "metadata": {
        "colab": {
          "base_uri": "https://localhost:8080/",
          "height": 0
        },
        "id": "Jw_PPo8sU8cT",
        "outputId": "0735a448-1992-491a-89d5-ab38c857f950"
      },
      "outputs": [
        {
          "output_type": "stream",
          "name": "stdout",
          "text": [
            "Validation MAE: 4.53\n",
            "Test MAE: 4.08\n"
          ]
        }
      ],
      "source": [
        "def evaluate_naive_method(dataset):\n",
        "    total_abs_err = 0.\n",
        "    samples_seen = 0\n",
        "    for samples, targets in dataset:\n",
        "        preds = samples[:, -1, 1] * std[1] + mean[1]\n",
        "        total_abs_err += np.sum(np.abs(preds - targets))\n",
        "        samples_seen += samples.shape[0]\n",
        "    return total_abs_err / samples_seen\n",
        "\n",
        "print(f\"Validation MAE: {evaluate_naive_method(validation_dataset):.2f}\")\n",
        "print(f\"Test MAE: {evaluate_naive_method(test_dataset):.2f}\")"
      ]
    },
    {
      "cell_type": "markdown",
      "metadata": {
        "id": "rlAh97W-U8cU"
      },
      "source": [
        "### Let's try a basic machine-learning model"
      ]
    },
    {
      "cell_type": "markdown",
      "source": [],
      "metadata": {
        "id": "cMo9nSdjYRWs"
      }
    },
    {
      "cell_type": "markdown",
      "metadata": {
        "id": "0z2G6t2SU8cU"
      },
      "source": [
        "**Training and evaluating a densely connected model**"
      ]
    },
    {
      "cell_type": "code",
      "execution_count": 19,
      "metadata": {
        "colab": {
          "base_uri": "https://localhost:8080/",
          "height": 0
        },
        "id": "yeVvLSJkU8cU",
        "outputId": "488a0393-4679-443a-9b68-6e8b046b64a5"
      },
      "outputs": [
        {
          "output_type": "stream",
          "name": "stdout",
          "text": [
            "Epoch 1/10\n",
            "655/655 [==============================] - 24s 35ms/step - loss: 12.0561 - mae: 2.6373 - val_loss: 10.9882 - val_mae: 2.6512\n",
            "Epoch 2/10\n",
            "655/655 [==============================] - 28s 43ms/step - loss: 7.4430 - mae: 2.1422 - val_loss: 10.2098 - val_mae: 2.5230\n",
            "Epoch 3/10\n",
            "655/655 [==============================] - 24s 36ms/step - loss: 6.8447 - mae: 2.0530 - val_loss: 9.2228 - val_mae: 2.4044\n",
            "Epoch 4/10\n",
            "655/655 [==============================] - 23s 35ms/step - loss: 6.4936 - mae: 2.0009 - val_loss: 9.9730 - val_mae: 2.4938\n",
            "Epoch 5/10\n",
            "655/655 [==============================] - 25s 38ms/step - loss: 6.2262 - mae: 1.9570 - val_loss: 10.5534 - val_mae: 2.5584\n",
            "Epoch 6/10\n",
            "655/655 [==============================] - 24s 36ms/step - loss: 6.0423 - mae: 1.9302 - val_loss: 9.8250 - val_mae: 2.4900\n",
            "Epoch 7/10\n",
            "655/655 [==============================] - 22s 33ms/step - loss: 5.8722 - mae: 1.9014 - val_loss: 10.9083 - val_mae: 2.6558\n",
            "Epoch 8/10\n",
            "655/655 [==============================] - 24s 37ms/step - loss: 5.7236 - mae: 1.8791 - val_loss: 9.9288 - val_mae: 2.5064\n",
            "Epoch 9/10\n",
            "655/655 [==============================] - 30s 45ms/step - loss: 5.5516 - mae: 1.8522 - val_loss: 10.9899 - val_mae: 2.6332\n",
            "Epoch 10/10\n",
            "655/655 [==============================] - 25s 38ms/step - loss: 5.4393 - mae: 1.8363 - val_loss: 9.6523 - val_mae: 2.5009\n",
            "2130/2130 [==============================] - 44s 20ms/step - loss: 8.8634 - mae: 2.3234\n",
            "Test MAE: 2.32\n"
          ]
        }
      ],
      "source": [
        "from tensorflow import keras\n",
        "from tensorflow.keras import layers\n",
        "\n",
        "inputs = keras.Input(shape=(sequence_length, raw_data.shape[-1]))\n",
        "x = layers.Flatten()(inputs)\n",
        "x = layers.Dense(16, activation=\"relu\")(x)\n",
        "outputs = layers.Dense(1)(x)\n",
        "model = keras.Model(inputs, outputs)\n",
        "\n",
        "callbacks = [\n",
        "    keras.callbacks.ModelCheckpoint(\"jena_dense.x\",\n",
        "                                    save_best_only=True)\n",
        "]\n",
        "model.compile(optimizer=\"rmsprop\", loss=\"mse\", metrics=[\"mae\"])\n",
        "history = model.fit(training_dataset,\n",
        "                    epochs=10,\n",
        "                    validation_data=validation_dataset,\n",
        "                    callbacks=callbacks)\n",
        "\n",
        "model = keras.models.load_model(\"jena_dense.x\")\n",
        "print(f\"Test MAE: {model.evaluate(test_dataset)[1]:.2f}\")"
      ]
    },
    {
      "cell_type": "markdown",
      "metadata": {
        "id": "s6TgXlmwU8cU"
      },
      "source": [
        "**Plotting results**"
      ]
    },
    {
      "cell_type": "code",
      "execution_count": 20,
      "metadata": {
        "colab": {
          "base_uri": "https://localhost:8080/",
          "height": 452
        },
        "id": "_-lbb3eCU8cU",
        "outputId": "653a46b0-b882-4a3b-b71a-6b6ba5f1f955"
      },
      "outputs": [
        {
          "output_type": "display_data",
          "data": {
            "text/plain": [
              "<Figure size 640x480 with 1 Axes>"
            ],
            "image/png": "[encoded data removed]"
          },
          "metadata": {}
        }
      ],
      "source": [
        "import matplotlib.pyplot as plt\n",
        "loss = history.history[\"mae\"]\n",
        "validation_loss = history.history[\"val_mae\"]\n",
        "epochs = range(1, len(loss) + 1)\n",
        "plt.figure()\n",
        "plt.plot(epochs, loss, \"bo\", label=\"Training MAE\")\n",
        "plt.plot(epochs, validation_loss, \"b\", label=\"Validation MAE\")\n",
        "plt.title(\"Training and validation MAE\")\n",
        "plt.legend()\n",
        "plt.show()"
      ]
    },
    {
      "cell_type": "markdown",
      "metadata": {
        "id": "CTMoDBU0U8cU"
      },
      "source": [
        "### Let's try a 1D convolutional model"
      ]
    },
    {
      "cell_type": "code",
      "execution_count": 21,
      "metadata": {
        "colab": {
          "base_uri": "https://localhost:8080/",
          "height": 0
        },
        "id": "CYatCaKHU8cU",
        "outputId": "90da129b-9950-48cf-cc01-a05194c8de99"
      },
      "outputs": [
        {
          "output_type": "stream",
          "name": "stdout",
          "text": [
            "Epoch 1/10\n",
            "655/655 [==============================] - 34s 50ms/step - loss: 14.2833 - mae: 2.8462 - val_loss: 11.2319 - val_mae: 2.6305\n",
            "Epoch 2/10\n",
            "655/655 [==============================] - 33s 50ms/step - loss: 9.3119 - mae: 2.3818 - val_loss: 12.0720 - val_mae: 2.7083\n",
            "Epoch 3/10\n",
            "655/655 [==============================] - 32s 48ms/step - loss: 8.6992 - mae: 2.3007 - val_loss: 11.7154 - val_mae: 2.7494\n",
            "Epoch 4/10\n",
            "655/655 [==============================] - 41s 62ms/step - loss: 8.2201 - mae: 2.2391 - val_loss: 10.5506 - val_mae: 2.5580\n",
            "Epoch 5/10\n",
            "655/655 [==============================] - 42s 64ms/step - loss: 7.9000 - mae: 2.2009 - val_loss: 10.5427 - val_mae: 2.5613\n",
            "Epoch 6/10\n",
            "655/655 [==============================] - 45s 69ms/step - loss: 7.6101 - mae: 2.1600 - val_loss: 10.4252 - val_mae: 2.5605\n",
            "Epoch 7/10\n",
            "655/655 [==============================] - 32s 48ms/step - loss: 7.3785 - mae: 2.1292 - val_loss: 11.3217 - val_mae: 2.6281\n",
            "Epoch 8/10\n",
            "655/655 [==============================] - 32s 48ms/step - loss: 7.1471 - mae: 2.0928 - val_loss: 12.0773 - val_mae: 2.7829\n",
            "Epoch 9/10\n",
            "655/655 [==============================] - 32s 48ms/step - loss: 6.9525 - mae: 2.0624 - val_loss: 12.5254 - val_mae: 2.8334\n",
            "Epoch 10/10\n",
            "655/655 [==============================] - 33s 50ms/step - loss: 6.7645 - mae: 2.0359 - val_loss: 11.2553 - val_mae: 2.6657\n",
            "2130/2130 [==============================] - 50s 24ms/step - loss: 10.5810 - mae: 2.5623\n",
            "Test MAE: 2.56\n"
          ]
        }
      ],
      "source": [
        "inputs = keras.Input(shape=(sequence_length, raw_data.shape[-1]))\n",
        "x = layers.Conv1D(8, 24, activation=\"relu\")(inputs)\n",
        "x = layers.MaxPooling1D(2)(x)\n",
        "x = layers.Conv1D(8, 12, activation=\"relu\")(x)\n",
        "x = layers.MaxPooling1D(2)(x)\n",
        "x = layers.Conv1D(8, 6, activation=\"relu\")(x)\n",
        "x = layers.GlobalAveragePooling1D()(x)\n",
        "outputs = layers.Dense(1)(x)\n",
        "model = keras.Model(inputs, outputs)\n",
        "\n",
        "callbacks = [\n",
        "    keras.callbacks.ModelCheckpoint(\"jena_conv.x\",\n",
        "                                    save_best_only=True)\n",
        "]\n",
        "model.compile(optimizer=\"rmsprop\", loss=\"mse\", metrics=[\"mae\"])\n",
        "history = model.fit(training_dataset,\n",
        "                    epochs=10,\n",
        "                    validation_data=validation_dataset,\n",
        "                    callbacks=callbacks)\n",
        "\n",
        "model = keras.models.load_model(\"jena_conv.x\")\n",
        "print(f\"Test MAE: {model.evaluate(test_dataset)[1]:.2f}\")"
      ]
    },
    {
      "cell_type": "markdown",
      "metadata": {
        "id": "MaaqXyJ8U8cU"
      },
      "source": [
        "### A first recurrent baseline"
      ]
    },
    {
      "cell_type": "markdown",
      "metadata": {
        "id": "w4XypDmwU8cU"
      },
      "source": [
        "**A simple LSTM-based model**"
      ]
    },
    {
      "cell_type": "code",
      "execution_count": 22,
      "metadata": {
        "colab": {
          "base_uri": "https://localhost:8080/",
          "height": 0
        },
        "id": "MiPiDSP8U8cU",
        "outputId": "7d6ea46b-3980-4fbc-e92f-dcd92b852c30"
      },
      "outputs": [
        {
          "output_type": "stream",
          "name": "stdout",
          "text": [
            "Epoch 1/10\n",
            "655/655 [==============================] - 56s 83ms/step - loss: 46.0940 - mae: 4.9396 - val_loss: 15.9329 - val_mae: 3.0985\n",
            "Epoch 2/10\n",
            "655/655 [==============================] - 59s 90ms/step - loss: 10.8692 - mae: 2.4988 - val_loss: 11.1636 - val_mae: 2.6409\n",
            "Epoch 3/10\n",
            "655/655 [==============================] - 60s 91ms/step - loss: 7.9320 - mae: 2.1790 - val_loss: 10.4769 - val_mae: 2.5485\n",
            "Epoch 4/10\n",
            "655/655 [==============================] - 52s 79ms/step - loss: 7.1629 - mae: 2.0701 - val_loss: 10.3823 - val_mae: 2.5290\n",
            "Epoch 5/10\n",
            "655/655 [==============================] - 57s 86ms/step - loss: 6.7001 - mae: 1.9973 - val_loss: 10.7269 - val_mae: 2.5684\n",
            "Epoch 6/10\n",
            "655/655 [==============================] - 49s 75ms/step - loss: 6.3327 - mae: 1.9444 - val_loss: 10.5503 - val_mae: 2.5524\n",
            "Epoch 7/10\n",
            "655/655 [==============================] - 51s 78ms/step - loss: 5.9967 - mae: 1.8942 - val_loss: 10.4493 - val_mae: 2.5389\n",
            "Epoch 8/10\n",
            "655/655 [==============================] - 49s 75ms/step - loss: 5.7004 - mae: 1.8496 - val_loss: 11.6236 - val_mae: 2.6773\n",
            "Epoch 9/10\n",
            "655/655 [==============================] - 55s 84ms/step - loss: 5.4769 - mae: 1.8147 - val_loss: 10.9838 - val_mae: 2.5812\n",
            "Epoch 10/10\n",
            "655/655 [==============================] - 49s 75ms/step - loss: 5.3029 - mae: 1.7831 - val_loss: 10.8532 - val_mae: 2.5846\n",
            "2130/2130 [==============================] - 63s 29ms/step - loss: 10.2654 - mae: 2.5172\n",
            "Test MAE: 2.52\n"
          ]
        }
      ],
      "source": [
        "inputs = keras.Input(shape=(sequence_length, raw_data.shape[-1]))\n",
        "x = layers.LSTM(16)(inputs)\n",
        "outputs = layers.Dense(1)(x)\n",
        "model = keras.Model(inputs, outputs)\n",
        "\n",
        "callbacks = [\n",
        "    keras.callbacks.ModelCheckpoint(\"jena_lstm.x\",\n",
        "                                    save_best_only=True)\n",
        "]\n",
        "model.compile(optimizer=\"rmsprop\", loss=\"mse\", metrics=[\"mae\"])\n",
        "history = model.fit(training_dataset,\n",
        "                    epochs=10,\n",
        "                    validation_data=validation_dataset,\n",
        "                    callbacks=callbacks)\n",
        "\n",
        "model = keras.models.load_model(\"jena_lstm.x\")\n",
        "print(f\"Test MAE: {model.evaluate(test_dataset)[1]:.2f}\")"
      ]
    },
    {
      "cell_type": "markdown",
      "metadata": {
        "id": "6tu8gk7UU8cV"
      },
      "source": [
        "## Understanding recurrent neural networks"
      ]
    },
    {
      "cell_type": "markdown",
      "metadata": {
        "id": "WoMWJl92U8cV"
      },
      "source": [
        "**NumPy implementation of a simple RNN**"
      ]
    },
    {
      "cell_type": "code",
      "execution_count": 23,
      "metadata": {
        "id": "JovS0dRIU8cV"
      },
      "outputs": [],
      "source": [
        "import numpy as np\n",
        "timesteps = 50\n",
        "input_features = 32\n",
        "output_features = 64\n",
        "inputs = np.random.random((timesteps, input_features))\n",
        "state_t = np.zeros((output_features,))\n",
        "W = np.random.random((output_features, input_features))\n",
        "U = np.random.random((output_features, output_features))\n",
        "b = np.random.random((output_features,))\n",
        "successive_outputs = []\n",
        "for input_t in inputs:\n",
        "    output_t = np.tanh(np.dot(W, input_t) + np.dot(U, state_t) + b)\n",
        "    successive_outputs.append(output_t)\n",
        "    state_t = output_t\n",
        "final_output_sequence = np.stack(successive_outputs, axis=0)"
      ]
    },
    {
      "cell_type": "markdown",
      "metadata": {
        "id": "nXPpAfiQU8ce"
      },
      "source": [
        "### A recurrent layer in Keras"
      ]
    },
    {
      "cell_type": "markdown",
      "metadata": {
        "id": "JgLsH57UU8ce"
      },
      "source": [
        "**An RNN layer that can process sequences of any length**"
      ]
    },
    {
      "cell_type": "code",
      "execution_count": 24,
      "metadata": {
        "id": "zTNdBlpuU8cf"
      },
      "outputs": [],
      "source": [
        "num_features = 14\n",
        "inputs = keras.Input(shape=(None, num_features))\n",
        "outputs = layers.SimpleRNN(16)(inputs)"
      ]
    },
    {
      "cell_type": "markdown",
      "metadata": {
        "id": "7711nczUU8cf"
      },
      "source": [
        "**An RNN layer that returns only its last output step**"
      ]
    },
    {
      "cell_type": "code",
      "execution_count": 25,
      "metadata": {
        "colab": {
          "base_uri": "https://localhost:8080/",
          "height": 0
        },
        "id": "-xLOyNbDU8cf",
        "outputId": "232512b6-0e27-4f43-dec6-6c5547124842"
      },
      "outputs": [
        {
          "output_type": "stream",
          "name": "stdout",
          "text": [
            "(None, 16)\n"
          ]
        }
      ],
      "source": [
        "num_features = 14\n",
        "steps = 80\n",
        "inputs = keras.Input(shape=(steps, num_features))\n",
        "outputs = layers.SimpleRNN(16, return_sequences=False)(inputs)\n",
        "print(outputs.shape)"
      ]
    },
    {
      "cell_type": "markdown",
      "metadata": {
        "id": "vRHAbWmdU8cf"
      },
      "source": [
        "**An RNN layer that returns its full output sequence**"
      ]
    },
    {
      "cell_type": "code",
      "execution_count": 26,
      "metadata": {
        "colab": {
          "base_uri": "https://localhost:8080/",
          "height": 0
        },
        "id": "VUd9gAQJU8cf",
        "outputId": "8ddce7c8-1188-461b-f8f7-7c2bfe521bb1"
      },
      "outputs": [
        {
          "output_type": "stream",
          "name": "stdout",
          "text": [
            "(None, 80, 16)\n"
          ]
        }
      ],
      "source": [
        "num_features = 14\n",
        "steps = 80\n",
        "inputs = keras.Input(shape=(steps, num_features))\n",
        "outputs = layers.SimpleRNN(16, return_sequences=True)(inputs)\n",
        "print(outputs.shape)"
      ]
    },
    {
      "cell_type": "markdown",
      "metadata": {
        "id": "7TKkeg4LU8cf"
      },
      "source": [
        "**Stacking RNN layers**"
      ]
    },
    {
      "cell_type": "code",
      "execution_count": 27,
      "metadata": {
        "id": "7i9KdNHNU8cf"
      },
      "outputs": [],
      "source": [
        "inputs = keras.Input(shape=(steps, num_features))\n",
        "x = layers.SimpleRNN(16, return_sequences=True)(inputs)\n",
        "x = layers.SimpleRNN(16, return_sequences=True)(x)\n",
        "outputs = layers.SimpleRNN(16)(x)"
      ]
    },
    {
      "cell_type": "markdown",
      "metadata": {
        "id": "-0gP9mg5U8cf"
      },
      "source": [
        "## Advanced use of recurrent neural networks"
      ]
    },
    {
      "cell_type": "markdown",
      "metadata": {
        "id": "Iav0XccrU8cf"
      },
      "source": [
        "### Using recurrent dropout to fight overfitting"
      ]
    },
    {
      "cell_type": "markdown",
      "metadata": {
        "id": "UbWcmW7lU8cg"
      },
      "source": [
        "**Training and evaluating a dropout-regularized LSTM**"
      ]
    },
    {
      "cell_type": "code",
      "execution_count": 28,
      "metadata": {
        "colab": {
          "base_uri": "https://localhost:8080/",
          "height": 0
        },
        "id": "SlpVaaTSU8cg",
        "outputId": "bc12fdc8-0024-4f1c-c380-4b61a2cdfdcf"
      },
      "outputs": [
        {
          "output_type": "stream",
          "name": "stdout",
          "text": [
            "Epoch 1/30\n",
            "655/655 [==============================] - 119s 177ms/step - loss: 52.7371 - mae: 5.3603 - val_loss: 16.4344 - val_mae: 3.1248\n",
            "Epoch 2/30\n",
            "655/655 [==============================] - 84s 127ms/step - loss: 16.3600 - mae: 3.0754 - val_loss: 10.7142 - val_mae: 2.5842\n",
            "Epoch 3/30\n",
            "655/655 [==============================] - 92s 141ms/step - loss: 13.4299 - mae: 2.8229 - val_loss: 10.4047 - val_mae: 2.5486\n",
            "Epoch 4/30\n",
            "655/655 [==============================] - 89s 136ms/step - loss: 12.6786 - mae: 2.7397 - val_loss: 10.4252 - val_mae: 2.5504\n",
            "Epoch 5/30\n",
            "655/655 [==============================] - 95s 145ms/step - loss: 12.1285 - mae: 2.6824 - val_loss: 9.9555 - val_mae: 2.4782\n",
            "Epoch 6/30\n",
            "655/655 [==============================] - 90s 137ms/step - loss: 11.6704 - mae: 2.6378 - val_loss: 9.7065 - val_mae: 2.4414\n",
            "Epoch 7/30\n",
            "655/655 [==============================] - 85s 129ms/step - loss: 11.4376 - mae: 2.6044 - val_loss: 9.5708 - val_mae: 2.4310\n",
            "Epoch 8/30\n",
            "655/655 [==============================] - 84s 128ms/step - loss: 11.1641 - mae: 2.5764 - val_loss: 9.7146 - val_mae: 2.4309\n",
            "Epoch 9/30\n",
            "655/655 [==============================] - 87s 133ms/step - loss: 10.9117 - mae: 2.5458 - val_loss: 9.7561 - val_mae: 2.4492\n",
            "Epoch 10/30\n",
            "655/655 [==============================] - 87s 133ms/step - loss: 10.7073 - mae: 2.5220 - val_loss: 9.6747 - val_mae: 2.4414\n",
            "Epoch 11/30\n",
            "655/655 [==============================] - 85s 129ms/step - loss: 10.5160 - mae: 2.5057 - val_loss: 10.3200 - val_mae: 2.5321\n",
            "Epoch 12/30\n",
            "655/655 [==============================] - 88s 133ms/step - loss: 10.3628 - mae: 2.4843 - val_loss: 9.8431 - val_mae: 2.4677\n",
            "Epoch 13/30\n",
            "655/655 [==============================] - 87s 133ms/step - loss: 10.2351 - mae: 2.4665 - val_loss: 10.0593 - val_mae: 2.4810\n",
            "Epoch 14/30\n",
            "655/655 [==============================] - 89s 135ms/step - loss: 10.0807 - mae: 2.4431 - val_loss: 10.0991 - val_mae: 2.4797\n",
            "Epoch 15/30\n",
            "655/655 [==============================] - 89s 135ms/step - loss: 9.9842 - mae: 2.4309 - val_loss: 9.7896 - val_mae: 2.4543\n",
            "Epoch 16/30\n",
            "655/655 [==============================] - 89s 136ms/step - loss: 9.8300 - mae: 2.4144 - val_loss: 10.1283 - val_mae: 2.4981\n",
            "Epoch 17/30\n",
            "655/655 [==============================] - 87s 132ms/step - loss: 9.7544 - mae: 2.4060 - val_loss: 10.1683 - val_mae: 2.5042\n",
            "Epoch 18/30\n",
            "655/655 [==============================] - 79s 120ms/step - loss: 9.6084 - mae: 2.3930 - val_loss: 10.7405 - val_mae: 2.5814\n",
            "Epoch 19/30\n",
            "655/655 [==============================] - 78s 119ms/step - loss: 9.4794 - mae: 2.3726 - val_loss: 10.3381 - val_mae: 2.5313\n",
            "Epoch 20/30\n",
            "655/655 [==============================] - 78s 119ms/step - loss: 9.4117 - mae: 2.3612 - val_loss: 10.2006 - val_mae: 2.5153\n",
            "Epoch 21/30\n",
            "655/655 [==============================] - 83s 127ms/step - loss: 9.3116 - mae: 2.3483 - val_loss: 10.2456 - val_mae: 2.5167\n",
            "Epoch 22/30\n",
            "655/655 [==============================] - 83s 127ms/step - loss: 9.2425 - mae: 2.3370 - val_loss: 10.9318 - val_mae: 2.6106\n",
            "Epoch 23/30\n",
            "655/655 [==============================] - 84s 129ms/step - loss: 9.1229 - mae: 2.3293 - val_loss: 10.7006 - val_mae: 2.5743\n",
            "Epoch 24/30\n",
            "655/655 [==============================] - 77s 118ms/step - loss: 9.1354 - mae: 2.3268 - val_loss: 10.7917 - val_mae: 2.5878\n",
            "Epoch 25/30\n",
            "655/655 [==============================] - 84s 128ms/step - loss: 8.9891 - mae: 2.3146 - val_loss: 10.6532 - val_mae: 2.5767\n",
            "Epoch 26/30\n",
            "655/655 [==============================] - 86s 131ms/step - loss: 8.9188 - mae: 2.3044 - val_loss: 10.5878 - val_mae: 2.5568\n",
            "Epoch 27/30\n",
            "655/655 [==============================] - 87s 132ms/step - loss: 8.7876 - mae: 2.2905 - val_loss: 11.0516 - val_mae: 2.6274\n",
            "Epoch 28/30\n",
            "655/655 [==============================] - 87s 132ms/step - loss: 8.8282 - mae: 2.2949 - val_loss: 10.9993 - val_mae: 2.6170\n",
            "Epoch 29/30\n",
            "655/655 [==============================] - 86s 131ms/step - loss: 8.7415 - mae: 2.2833 - val_loss: 10.9610 - val_mae: 2.6100\n",
            "Epoch 30/30\n",
            "655/655 [==============================] - 79s 121ms/step - loss: 8.6468 - mae: 2.2768 - val_loss: 10.7795 - val_mae: 2.5866\n"
          ]
        }
      ],
      "source": [
        "inputs = keras.Input(shape=(sequence_length, raw_data.shape[-1]))\n",
        "x = layers.LSTM(16, recurrent_dropout=0.15)(inputs)\n",
        "x = layers.Dropout(0.3)(x)\n",
        "outputs = layers.Dense(1)(x)\n",
        "model = keras.Model(inputs, outputs)\n",
        "\n",
        "callbacks = [\n",
        "    keras.callbacks.ModelCheckpoint(\"jena_lstm_dropout.x\",\n",
        "                                    save_best_only=True)\n",
        "]\n",
        "model.compile(optimizer=\"rmsprop\", loss=\"mse\", metrics=[\"mae\"])\n",
        "history = model.fit(training_dataset,\n",
        "                    epochs=30,\n",
        "                    validation_data=validation_dataset,\n",
        "                    callbacks=callbacks)"
      ]
    },
    {
      "cell_type": "code",
      "execution_count": 29,
      "metadata": {
        "id": "zUakvEi3U8cg"
      },
      "outputs": [],
      "source": [
        "inputs = keras.Input(shape=(sequence_length, num_features))\n",
        "x = layers.LSTM(16, recurrent_dropout=0.1, unroll=True)(inputs)"
      ]
    },
    {
      "cell_type": "markdown",
      "metadata": {
        "id": "2nLeqkx6U8cg"
      },
      "source": [
        "### Stacking recurrent layers"
      ]
    },
    {
      "cell_type": "markdown",
      "metadata": {
        "id": "3vv-8yR7U8cg"
      },
      "source": [
        "**Training and evaluating a dropout-regularized, stacked GRU model**"
      ]
    },
    {
      "cell_type": "code",
      "execution_count": 30,
      "metadata": {
        "colab": {
          "base_uri": "https://localhost:8080/",
          "height": 0
        },
        "id": "QrxIpV2BU8cg",
        "outputId": "2d0c8ac9-4634-41b4-9314-28d9a954c963"
      },
      "outputs": [
        {
          "output_type": "stream",
          "name": "stdout",
          "text": [
            "Epoch 1/30\n",
            "655/655 [==============================] - 137s 202ms/step - loss: 50.7068 - mae: 5.1965 - val_loss: 15.2346 - val_mae: 2.9402\n",
            "Epoch 2/30\n",
            "655/655 [==============================] - 131s 200ms/step - loss: 19.1476 - mae: 3.2825 - val_loss: 10.9383 - val_mae: 2.6112\n",
            "Epoch 3/30\n",
            "655/655 [==============================] - 132s 202ms/step - loss: 16.4749 - mae: 3.0787 - val_loss: 9.6393 - val_mae: 2.4333\n",
            "Epoch 4/30\n",
            "655/655 [==============================] - 131s 200ms/step - loss: 15.4667 - mae: 2.9943 - val_loss: 9.5380 - val_mae: 2.4156\n",
            "Epoch 5/30\n",
            "655/655 [==============================] - 126s 192ms/step - loss: 14.5947 - mae: 2.9121 - val_loss: 9.9084 - val_mae: 2.4826\n",
            "Epoch 6/30\n",
            "655/655 [==============================] - 123s 187ms/step - loss: 14.2089 - mae: 2.8754 - val_loss: 9.7286 - val_mae: 2.4536\n",
            "Epoch 7/30\n",
            "655/655 [==============================] - 126s 193ms/step - loss: 13.5694 - mae: 2.8140 - val_loss: 9.8786 - val_mae: 2.4714\n",
            "Epoch 8/30\n",
            "655/655 [==============================] - 129s 196ms/step - loss: 13.3338 - mae: 2.7853 - val_loss: 9.6805 - val_mae: 2.4450\n",
            "Epoch 9/30\n",
            "655/655 [==============================] - 123s 187ms/step - loss: 13.0124 - mae: 2.7570 - val_loss: 9.6352 - val_mae: 2.4246\n",
            "Epoch 10/30\n",
            "655/655 [==============================] - 130s 199ms/step - loss: 12.7505 - mae: 2.7226 - val_loss: 9.5277 - val_mae: 2.4039\n",
            "Epoch 11/30\n",
            "655/655 [==============================] - 124s 190ms/step - loss: 12.5072 - mae: 2.7073 - val_loss: 9.7743 - val_mae: 2.4551\n",
            "Epoch 12/30\n",
            "655/655 [==============================] - 120s 183ms/step - loss: 12.0893 - mae: 2.6641 - val_loss: 10.5895 - val_mae: 2.5693\n",
            "Epoch 13/30\n",
            "655/655 [==============================] - 122s 186ms/step - loss: 11.9963 - mae: 2.6517 - val_loss: 9.8504 - val_mae: 2.4608\n",
            "Epoch 14/30\n",
            "655/655 [==============================] - 125s 191ms/step - loss: 11.7918 - mae: 2.6353 - val_loss: 10.1670 - val_mae: 2.5054\n",
            "Epoch 15/30\n",
            "655/655 [==============================] - 125s 191ms/step - loss: 11.5716 - mae: 2.6103 - val_loss: 9.8097 - val_mae: 2.4589\n",
            "Epoch 16/30\n",
            "655/655 [==============================] - 127s 193ms/step - loss: 11.2636 - mae: 2.5779 - val_loss: 9.7645 - val_mae: 2.4366\n",
            "Epoch 17/30\n",
            "655/655 [==============================] - 132s 201ms/step - loss: 11.3749 - mae: 2.5866 - val_loss: 10.1880 - val_mae: 2.5103\n",
            "Epoch 18/30\n",
            "655/655 [==============================] - 132s 201ms/step - loss: 11.0926 - mae: 2.5590 - val_loss: 9.7818 - val_mae: 2.4543\n",
            "Epoch 19/30\n",
            "655/655 [==============================] - 130s 198ms/step - loss: 11.0021 - mae: 2.5481 - val_loss: 10.6174 - val_mae: 2.5691\n",
            "Epoch 20/30\n",
            "655/655 [==============================] - 124s 188ms/step - loss: 10.8809 - mae: 2.5331 - val_loss: 10.4307 - val_mae: 2.5475\n",
            "Epoch 21/30\n",
            "655/655 [==============================] - 126s 192ms/step - loss: 10.7709 - mae: 2.5212 - val_loss: 9.9398 - val_mae: 2.4803\n",
            "Epoch 22/30\n",
            "655/655 [==============================] - 123s 187ms/step - loss: 10.6574 - mae: 2.5108 - val_loss: 10.4423 - val_mae: 2.5465\n",
            "Epoch 23/30\n",
            "655/655 [==============================] - 125s 191ms/step - loss: 10.5461 - mae: 2.4942 - val_loss: 10.7860 - val_mae: 2.5811\n",
            "Epoch 24/30\n",
            "655/655 [==============================] - 123s 188ms/step - loss: 10.4588 - mae: 2.4828 - val_loss: 10.1146 - val_mae: 2.5014\n",
            "Epoch 25/30\n",
            "655/655 [==============================] - 124s 189ms/step - loss: 10.3797 - mae: 2.4673 - val_loss: 10.2564 - val_mae: 2.5288\n",
            "Epoch 26/30\n",
            "655/655 [==============================] - 126s 192ms/step - loss: 10.4360 - mae: 2.4733 - val_loss: 10.1349 - val_mae: 2.5085\n",
            "Epoch 27/30\n",
            "655/655 [==============================] - 126s 192ms/step - loss: 10.4204 - mae: 2.4709 - val_loss: 10.1051 - val_mae: 2.5028\n",
            "Epoch 28/30\n",
            "655/655 [==============================] - 126s 193ms/step - loss: 10.2228 - mae: 2.4551 - val_loss: 10.2631 - val_mae: 2.5226\n",
            "Epoch 29/30\n",
            "655/655 [==============================] - 126s 192ms/step - loss: 10.3064 - mae: 2.4602 - val_loss: 10.9490 - val_mae: 2.6202\n",
            "Epoch 30/30\n",
            "655/655 [==============================] - 124s 188ms/step - loss: 10.0979 - mae: 2.4409 - val_loss: 10.9828 - val_mae: 2.6320\n",
            "2130/2130 [==============================] - 95s 44ms/step - loss: 8.7399 - mae: 2.3068\n",
            "Test MAE: 2.31\n"
          ]
        }
      ],
      "source": [
        "inputs = keras.Input(shape=(sequence_length, raw_data.shape[-1]))\n",
        "x = layers.GRU(16, recurrent_dropout=0.2, return_sequences=True)(inputs)\n",
        "x = layers.GRU(16, recurrent_dropout=0.2)(x)\n",
        "x = layers.Dropout(0.2   )(x)\n",
        "outputs = layers.Dense(1)(x)\n",
        "model = keras.Model(inputs, outputs)\n",
        "\n",
        "callbacks = [\n",
        "    keras.callbacks.ModelCheckpoint(\"jena_stacked_gru_dropout.x\",\n",
        "                                    save_best_only=True)\n",
        "]\n",
        "model.compile(optimizer=\"rmsprop\", loss=\"mse\", metrics=[\"mae\"])\n",
        "history = model.fit(training_dataset,\n",
        "                    epochs=30,\n",
        "                    validation_data=validation_dataset,\n",
        "                    callbacks=callbacks)\n",
        "model = keras.models.load_model(\"jena_stacked_gru_dropout.x\")\n",
        "print(f\"Test MAE: {model.evaluate(test_dataset)[1]:.2f}\")"
      ]
    },
    {
      "cell_type": "markdown",
      "metadata": {
        "id": "wuyNALrUU8cg"
      },
      "source": [
        "### Using bidirectional RNNs"
      ]
    },
    {
      "cell_type": "markdown",
      "metadata": {
        "id": "VaH56a4IU8cg"
      },
      "source": [
        "**Training and evaluating a bidirectional LSTM**"
      ]
    },
    {
      "cell_type": "code",
      "execution_count": 31,
      "metadata": {
        "colab": {
          "base_uri": "https://localhost:8080/",
          "height": 0
        },
        "id": "AZdbATB-U8ch",
        "outputId": "3520cdd9-df4f-4b95-c5cf-de243526f575"
      },
      "outputs": [
        {
          "output_type": "stream",
          "name": "stdout",
          "text": [
            "Epoch 1/10\n",
            "655/655 [==============================] - 69s 100ms/step - loss: 48.5479 - mae: 5.1864 - val_loss: 20.7927 - val_mae: 3.5726\n",
            "Epoch 2/10\n",
            "655/655 [==============================] - 69s 106ms/step - loss: 13.8837 - mae: 2.8609 - val_loss: 14.5841 - val_mae: 2.9889\n",
            "Epoch 3/10\n",
            "655/655 [==============================] - 64s 97ms/step - loss: 9.8508 - mae: 2.4223 - val_loss: 13.1339 - val_mae: 2.8381\n",
            "Epoch 4/10\n",
            "655/655 [==============================] - 68s 104ms/step - loss: 8.6233 - mae: 2.2680 - val_loss: 12.3077 - val_mae: 2.7491\n",
            "Epoch 5/10\n",
            "655/655 [==============================] - 70s 106ms/step - loss: 8.0281 - mae: 2.1894 - val_loss: 11.7446 - val_mae: 2.6876\n",
            "Epoch 6/10\n",
            "655/655 [==============================] - 64s 98ms/step - loss: 7.5676 - mae: 2.1298 - val_loss: 11.6286 - val_mae: 2.6722\n",
            "Epoch 7/10\n",
            "655/655 [==============================] - 70s 106ms/step - loss: 7.2588 - mae: 2.0858 - val_loss: 11.0879 - val_mae: 2.6193\n",
            "Epoch 8/10\n",
            "655/655 [==============================] - 63s 96ms/step - loss: 7.0448 - mae: 2.0568 - val_loss: 10.9993 - val_mae: 2.6008\n",
            "Epoch 9/10\n",
            "655/655 [==============================] - 70s 107ms/step - loss: 6.8007 - mae: 2.0225 - val_loss: 10.8189 - val_mae: 2.5833\n",
            "Epoch 10/10\n",
            "655/655 [==============================] - 69s 106ms/step - loss: 6.5776 - mae: 1.9910 - val_loss: 10.7886 - val_mae: 2.5722\n"
          ]
        }
      ],
      "source": [
        "inputs = keras.Input(shape=(sequence_length, raw_data.shape[-1]))\n",
        "x = layers.Bidirectional(layers.LSTM(8))(inputs)\n",
        "outputs = layers.Dense(1)(x)\n",
        "model = keras.Model(inputs, outputs)\n",
        "\n",
        "model.compile(optimizer=\"rmsprop\", loss=\"mse\", metrics=[\"mae\"])\n",
        "history = model.fit(training_dataset,\n",
        "                    epochs=10,\n",
        "                    validation_data=validation_dataset)"
      ]
    },
    {
      "cell_type": "markdown",
      "metadata": {
        "id": "dQ1cW66iU8ch"
      },
      "source": [
        "### Going even further"
      ]
    },
    {
      "cell_type": "markdown",
      "metadata": {
        "id": "viI5RLQCU8ch"
      },
      "source": [
        "## Summary"
      ]
    }
  ],
  "metadata": {
    "colab": {
      "name": "chapter10_dl-for-timeseries.i",
      "provenance": []
    },
    "kernelspec": {
      "display_name": "Python 3",
      "language": "python",
      "name": "python3"
    },
    "language_info": {
      "codemirror_mode": {
        "name": "ipython",
        "version": 3
      },
      "file_extension": ".py",
      "mimetype": "text/x-python",
      "name": "python",
      "nbconvert_exporter": "python",
      "pygments_lexer": "ipython3",
      "version": "3.7.0"
    }
  },
  "nbformat": 4,
  "nbformat_minor": 0
}