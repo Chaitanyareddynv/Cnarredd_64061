{
  "cells": [
    {
      "cell_type": "markdown",
      "metadata": {
        "colab_type": "text",
        "id": "view-in-github"
      },
      "source": [
        "<a href=\"https://colab.research.google.com/github/Chaitanyareddynv/Cnarredd_64061/blob/main/assignment_4.ipynb\" target=\"_parent\"><img src=\"https://colab.research.google.com/assets/colab-badge.svg\" alt=\"Open In Colab\"/></a>"
      ]
    },
    {
      "cell_type": "markdown",
      "metadata": {
        "id": "SfEf_M_LmW-i"
      },
      "source": [
        "**Downloading the data**\n",
        "\n"
      ]
    },
    {
      "cell_type": "code",
      "execution_count": 1,
      "metadata": {
        "colab": {
          "base_uri": "https://localhost:8080/"
        },
        "id": "OK_YTOXxSkYp",
        "outputId": "b4536678-d7d9-4ca4-b7cd-cdd0c0961423"
      },
      "outputs": [
        {
          "name": "stdout",
          "output_type": "stream",
          "text": [
            "  % Total    % Received % Xferd  Average Speed   Time    Time     Time  Current\n",
            "                                 Dload  Upload   Total   Spent    Left  Speed\n",
            "100 80.2M  100 80.2M    0     0  5022k      0  0:00:16  0:00:16 --:--:-- 6058k\n"
          ]
        }
      ],
      "source": [
        "!curl -O https://ai.stanford.edu/~amaas/data/sentiment/aclImdb_v1.tar.gz\n",
        "!tar -xf aclImdb_v1.tar.gz\n",
        "!rm -r aclImdb/train/unsup"
      ]
    },
    {
      "cell_type": "markdown",
      "metadata": {
        "id": "FxFa4ubQmcPT"
      },
      "source": [
        "Preparing the data"
      ]
    },
    {
      "cell_type": "code",
      "execution_count": 2,
      "metadata": {
        "colab": {
          "base_uri": "https://localhost:8080/"
        },
        "id": "HCTPULw4DkWz",
        "outputId": "c8a39af4-e2cd-45a4-d71e-05855627d27e"
      },
      "outputs": [
        {
          "name": "stdout",
          "output_type": "stream",
          "text": [
            "Found 20000 files belonging to 2 classes.\n",
            "Found 5000 files belonging to 2 classes.\n",
            "Found 25000 files belonging to 2 classes.\n"
          ]
        }
      ],
      "source": [
        "import os, pathlib, shutil, random\n",
        "from tensorflow import keras\n",
        "batch_size = 32\n",
        "base_dir7= pathlib.Path(\"/content/aclImdb\")\n",
        "val_dir7 = base_dir7/ \"val\"\n",
        "train_dir7 = base_dir7 / \"train\"\n",
        "for category in (\"neg\", \"pos\"):\n",
        "    os.makedirs(val_dir7 / category, exist_ok=True )\n",
        "\n",
        "    files = os.listdir(train_dir7 / category)\n",
        "    random.Random(1337).shuffle(files)\n",
        "    num_val_samples = int(0.2 * len(files))\n",
        "    val_files = files[-num_val_samples:]\n",
        "    for fname in val_files:\n",
        "        shutil.move(train_dir7 / category / fname,\n",
        "                    val_dir7 / category / fname)\n",
        "\n",
        "train_ds = keras.utils.text_dataset_from_directory(\n",
        "    \"aclImdb/train\", batch_size=batch_size\n",
        ").take(150)\n",
        "\n",
        "val_ds = keras.utils.text_dataset_from_directory(\n",
        "    \"/content/aclImdb/val\", batch_size=batch_size\n",
        ")\n",
        "test_ds = keras.utils.text_dataset_from_directory(\n",
        "    \"aclImdb/test\", batch_size=batch_size\n",
        ")\n",
        "text_only_train_ds = train_ds.map(lambda x, y: x)\n"
      ]
    },
    {
      "cell_type": "markdown",
      "metadata": {
        "id": "08v9H-1dmf2d"
      },
      "source": [
        "Preparing integer sequence datasets"
      ]
    },
    {
      "cell_type": "code",
      "execution_count": 3,
      "metadata": {
        "id": "Qwdim3LtDkh_"
      },
      "outputs": [],
      "source": [
        "from tensorflow.keras import layers\n",
        "\n",
        "max_length = 150\n",
        "max_tokens = 20000\n",
        "text_vectorization = layers.TextVectorization(\n",
        "    max_tokens=max_tokens,\n",
        "    output_mode=\"int\",\n",
        "    output_sequence_length=max_length,\n",
        ")\n",
        "text_vectorization.adapt(text_only_train_ds)\n",
        "\n",
        "int_train_ds = train_ds.map(\n",
        "    lambda x, y: (text_vectorization(x), y),\n",
        "    num_parallel_calls=4)\n",
        "int_val_ds = val_ds.map(\n",
        "    lambda x, y: (text_vectorization(x), y),\n",
        "    num_parallel_calls=4)\n",
        "int_test_ds = test_ds.map(\n",
        "    lambda x, y: (text_vectorization(x), y),\n",
        "    num_parallel_calls=4)"
      ]
    },
    {
      "cell_type": "markdown",
      "metadata": {
        "id": "UeIC--rVmkNw"
      },
      "source": [
        "**A sequence model built on one-hot encoded vector sequences**"
      ]
    },
    {
      "cell_type": "code",
      "execution_count": 4,
      "metadata": {
        "colab": {
          "base_uri": "https://localhost:8080/"
        },
        "id": "xHPKcp4TDkqm",
        "outputId": "7589f841-3ce1-40b7-caef-6b1e41ea2eb3"
      },
      "outputs": [
        {
          "name": "stdout",
          "output_type": "stream",
          "text": [
            "Model: \"model\"\n",
            "_________________________________________________________________\n",
            " Layer (type)                Output Shape              Param #   \n",
            "=================================================================\n",
            " input_1 (InputLayer)        [(None, None)]            0         \n",
            "                                                                 \n",
            " tf.one_hot (TFOpLambda)     (None, None, 20000)       0         \n",
            "                                                                 \n",
            " bidirectional (Bidirection  (None, 64)                5128448   \n",
            " al)                                                             \n",
            "                                                                 \n",
            " dropout (Dropout)           (None, 64)                0         \n",
            "                                                                 \n",
            " dense (Dense)               (None, 1)                 65        \n",
            "                                                                 \n",
            "=================================================================\n",
            "Total params: 5128513 (19.56 MB)\n",
            "Trainable params: 5128513 (19.56 MB)\n",
            "Non-trainable params: 0 (0.00 Byte)\n",
            "_________________________________________________________________\n"
          ]
        }
      ],
      "source": [
        "import tensorflow as tf\n",
        "inputs = keras.Input(shape=(None,), dtype=\"int64\")\n",
        "embedded = tf.one_hot(inputs, depth=max_tokens)\n",
        "x = layers.Bidirectional(layers.LSTM(32))(embedded)\n",
        "x = layers.Dropout(0.5)(x)\n",
        "outputs = layers.Dense(1, activation=\"sigmoid\")(x)\n",
        "model = keras.Model(inputs, outputs)\n",
        "model.compile(optimizer=\"rmsprop\",\n",
        "              loss=\"binary_crossentropy\",\n",
        "              metrics=[\"accuracy\"])\n",
        "model.summary()"
      ]
    },
    {
      "cell_type": "markdown",
      "metadata": {
        "id": "pGMmF45lmr2m"
      },
      "source": [
        "Training a first basic sequence model"
      ]
    },
    {
      "cell_type": "code",
      "execution_count": 6,
      "metadata": {
        "colab": {
          "base_uri": "https://localhost:8080/"
        },
        "id": "haVNKQlBDkuv",
        "outputId": "32aa8762-eed8-401d-a78c-e219990c1afd"
      },
      "outputs": [
        {
          "name": "stdout",
          "output_type": "stream",
          "text": [
            "Epoch 1/10\n",
            "150/150 [==============================] - 24s 160ms/step - loss: 0.5600 - accuracy: 0.7398 - val_loss: 0.4739 - val_accuracy: 0.7894\n",
            "Epoch 2/10\n",
            "150/150 [==============================] - 24s 161ms/step - loss: 0.4104 - accuracy: 0.8508 - val_loss: 0.4404 - val_accuracy: 0.8026\n",
            "Epoch 3/10\n",
            "150/150 [==============================] - 14s 95ms/step - loss: 0.3224 - accuracy: 0.8865 - val_loss: 0.5628 - val_accuracy: 0.7608\n",
            "Epoch 4/10\n",
            "150/150 [==============================] - 14s 97ms/step - loss: 0.2757 - accuracy: 0.9087 - val_loss: 0.4909 - val_accuracy: 0.7738\n",
            "Epoch 5/10\n",
            "150/150 [==============================] - 15s 97ms/step - loss: 0.2345 - accuracy: 0.9308 - val_loss: 0.4441 - val_accuracy: 0.8176\n",
            "Epoch 6/10\n",
            "150/150 [==============================] - 20s 130ms/step - loss: 0.2016 - accuracy: 0.9388 - val_loss: 0.4767 - val_accuracy: 0.7794\n",
            "Epoch 7/10\n",
            "150/150 [==============================] - 15s 98ms/step - loss: 0.1670 - accuracy: 0.9483 - val_loss: 0.4460 - val_accuracy: 0.8232\n",
            "Epoch 8/10\n",
            "150/150 [==============================] - 15s 97ms/step - loss: 0.1292 - accuracy: 0.9652 - val_loss: 0.4664 - val_accuracy: 0.8170\n",
            "Epoch 9/10\n",
            "150/150 [==============================] - 15s 97ms/step - loss: 0.1144 - accuracy: 0.9692 - val_loss: 0.5695 - val_accuracy: 0.8014\n",
            "Epoch 10/10\n",
            "150/150 [==============================] - 20s 131ms/step - loss: 0.0939 - accuracy: 0.9740 - val_loss: 0.9127 - val_accuracy: 0.7824\n",
            "782/782 [==============================] - 28s 35ms/step - loss: 0.4380 - accuracy: 0.8011\n",
            "Test acc: 0.801\n"
          ]
        }
      ],
      "source": [
        "callbacks = [\n",
        "    keras.callbacks.ModelCheckpoint(\"one_hot_bidir_lstm.x\",\n",
        "                                    save_best_only=True)\n",
        "]\n",
        "model.fit(int_train_ds, validation_data=int_val_ds, epochs=10, callbacks=callbacks)\n",
        "model = keras.models.load_model(\"one_hot_bidir_lstm.x\")\n",
        "print(f\"Test acc: {model.evaluate(int_test_ds)[1]:.3f}\")"
      ]
    },
    {
      "cell_type": "markdown",
      "metadata": {
        "id": "5PkSSfcHmtTS"
      },
      "source": [
        "**Learning word embeddings with the Embedding layer**\n",
        "\n",
        "Instantiating an Embedding layer"
      ]
    },
    {
      "cell_type": "code",
      "execution_count": 7,
      "metadata": {
        "id": "gwqOwLSKDkyH"
      },
      "outputs": [],
      "source": [
        "embedding_layer = layers.Embedding(input_dim=max_tokens, output_dim=256)"
      ]
    },
    {
      "cell_type": "markdown",
      "metadata": {
        "id": "BwlrpDgxm876"
      },
      "source": [
        "Model that uses an Embedding layer trained from scratch"
      ]
    },
    {
      "cell_type": "code",
      "execution_count": null,
      "metadata": {
        "colab": {
          "base_uri": "https://localhost:8080/"
        },
        "id": "terl2LwbDky9",
        "outputId": "e2ba87bf-63b7-4382-b85a-5cf04ce7bbc4"
      },
      "outputs": [
        {
          "name": "stdout",
          "output_type": "stream",
          "text": [
            "Model: \"model_2\"\n",
            "_________________________________________________________________\n",
            " Layer (type)                Output Shape              Param #   \n",
            "=================================================================\n",
            " input_3 (InputLayer)        [(None, None)]            0         \n",
            "                                                                 \n",
            " embedding_2 (Embedding)     (None, None, 256)         5120000   \n",
            "                                                                 \n",
            " bidirectional_2 (Bidirecti  (None, 64)                73984     \n",
            " onal)                                                           \n",
            "                                                                 \n",
            " dropout_2 (Dropout)         (None, 64)                0         \n",
            "                                                                 \n",
            " dense_2 (Dense)             (None, 1)                 65        \n",
            "                                                                 \n",
            "=================================================================\n",
            "Total params: 5194049 (19.81 MB)\n",
            "Trainable params: 5194049 (19.81 MB)\n",
            "Non-trainable params: 0 (0.00 Byte)\n",
            "_________________________________________________________________\n",
            "Epoch 1/10\n",
            "150/150 [==============================] - 82s 523ms/step - loss: 0.6559 - accuracy: 0.6010 - val_loss: 0.5480 - val_accuracy: 0.7360\n",
            "Epoch 2/10\n",
            "150/150 [==============================] - 20s 131ms/step - loss: 0.4779 - accuracy: 0.7865 - val_loss: 0.4492 - val_accuracy: 0.7952\n",
            "Epoch 3/10\n",
            "150/150 [==============================] - 16s 107ms/step - loss: 0.3401 - accuracy: 0.8694 - val_loss: 0.4371 - val_accuracy: 0.8068\n",
            "Epoch 4/10\n",
            "150/150 [==============================] - 8s 53ms/step - loss: 0.2378 - accuracy: 0.9204 - val_loss: 0.5450 - val_accuracy: 0.8076\n",
            "Epoch 5/10\n",
            "150/150 [==============================] - 5s 31ms/step - loss: 0.1730 - accuracy: 0.9444 - val_loss: 0.5039 - val_accuracy: 0.8110\n",
            "Epoch 6/10\n",
            "150/150 [==============================] - 6s 41ms/step - loss: 0.1274 - accuracy: 0.9602 - val_loss: 0.5002 - val_accuracy: 0.8082\n",
            "Epoch 7/10\n",
            "150/150 [==============================] - 4s 28ms/step - loss: 0.0919 - accuracy: 0.9723 - val_loss: 0.5548 - val_accuracy: 0.7994\n",
            "Epoch 8/10\n",
            "150/150 [==============================] - 6s 38ms/step - loss: 0.0756 - accuracy: 0.9756 - val_loss: 1.5371 - val_accuracy: 0.6770\n",
            "Epoch 9/10\n",
            "150/150 [==============================] - 4s 25ms/step - loss: 0.0609 - accuracy: 0.9829 - val_loss: 1.0110 - val_accuracy: 0.7716\n",
            "Epoch 10/10\n",
            "150/150 [==============================] - 5s 35ms/step - loss: 0.0417 - accuracy: 0.9898 - val_loss: 0.6634 - val_accuracy: 0.7928\n",
            "782/782 [==============================] - 9s 11ms/step - loss: 0.4455 - accuracy: 0.7984\n",
            "Test acc: 0.798\n"
          ]
        }
      ],
      "source": [
        "inputs = keras.Input(shape=(None,), dtype=\"int655\")\n",
        "embedded = layers.Embedding(input_dim=max_tokens, output_dim=256)(inputs)\n",
        "x = layers.Bidirectional(layers.LSTM(32))(embedded)\n",
        "x = layers.Dropout(0.5)(x)\n",
        "outputs = layers.Dense(1, activation=\"sigmoid\")(x)\n",
        "model = keras.Model(inputs, outputs)\n",
        "model.compile(optimizer=\"rmsprop\",\n",
        "              loss=\"binary_crossentropy\",\n",
        "              metrics=[\"accuracy\"])\n",
        "model.summary()\n",
        "\n",
        "callbacks = [\n",
        "    keras.callbacks.ModelCheckpoint(\"embeddings_bidir_gru.x\",\n",
        "                                    save_best_only=True)\n",
        "]\n",
        "model.fit(int_train_ds, validation_data=int_val_ds, epochs=10, callbacks=callbacks)\n",
        "model = keras.models.load_model(\"embeddings_bidir_gru.x\")\n",
        "print(f\"Test acc: {model.evaluate(int_test_ds)[1]:.3f}\")"
      ]
    },
    {
      "cell_type": "markdown",
      "metadata": {
        "id": "3MP9fVyBnBYJ"
      },
      "source": [
        "Understanding padding and masking\n",
        "\n",
        "Using an Embedding layer with masking enabled"
      ]
    },
    {
      "cell_type": "code",
      "execution_count": 10,
      "metadata": {
        "colab": {
          "base_uri": "https://localhost:8080/"
        },
        "id": "IRyFMQ36Dk2I",
        "outputId": "ae0fc92a-74e4-45e1-9b31-9066f38280b8"
      },
      "outputs": [
        {
          "name": "stdout",
          "output_type": "stream",
          "text": [
            "Model: \"model_3\"\n",
            "_________________________________________________________________\n",
            " Layer (type)                Output Shape              Param #   \n",
            "=================================================================\n",
            " input_4 (InputLayer)        [(None, None)]            0         \n",
            "                                                                 \n",
            " embedding_3 (Embedding)     (None, None, 256)         5120000   \n",
            "                                                                 \n",
            " bidirectional_3 (Bidirecti  (None, 64)                73984     \n",
            " onal)                                                           \n",
            "                                                                 \n",
            " dropout_3 (Dropout)         (None, 64)                0         \n",
            "                                                                 \n",
            " dense_3 (Dense)             (None, 1)                 65        \n",
            "                                                                 \n",
            "=================================================================\n",
            "Total params: 5194049 (19.81 MB)\n",
            "Trainable params: 5194049 (19.81 MB)\n",
            "Non-trainable params: 0 (0.00 Byte)\n",
            "_________________________________________________________________\n",
            "Epoch 1/10\n",
            "150/150 [==============================] - 44s 249ms/step - loss: 0.6564 - accuracy: 0.5973 - val_loss: 0.5263 - val_accuracy: 0.7500\n",
            "Epoch 2/10\n",
            "150/150 [==============================] - 27s 182ms/step - loss: 0.4464 - accuracy: 0.8035 - val_loss: 0.4398 - val_accuracy: 0.8014\n",
            "Epoch 3/10\n",
            "150/150 [==============================] - 26s 172ms/step - loss: 0.2979 - accuracy: 0.8823 - val_loss: 0.4346 - val_accuracy: 0.8166\n",
            "Epoch 4/10\n",
            "150/150 [==============================] - 9s 58ms/step - loss: 0.2053 - accuracy: 0.9217 - val_loss: 0.4959 - val_accuracy: 0.7998\n",
            "Epoch 5/10\n",
            "150/150 [==============================] - 6s 36ms/step - loss: 0.1291 - accuracy: 0.9577 - val_loss: 0.6238 - val_accuracy: 0.7438\n",
            "Epoch 6/10\n",
            "150/150 [==============================] - 7s 45ms/step - loss: 0.0945 - accuracy: 0.9660 - val_loss: 0.5310 - val_accuracy: 0.7990\n",
            "Epoch 7/10\n",
            "150/150 [==============================] - 6s 38ms/step - loss: 0.0620 - accuracy: 0.9773 - val_loss: 0.6380 - val_accuracy: 0.8020\n",
            "Epoch 8/10\n",
            "150/150 [==============================] - 5s 35ms/step - loss: 0.0419 - accuracy: 0.9885 - val_loss: 0.6792 - val_accuracy: 0.8070\n",
            "Epoch 9/10\n",
            "150/150 [==============================] - 6s 41ms/step - loss: 0.0369 - accuracy: 0.9879 - val_loss: 0.7432 - val_accuracy: 0.8002\n",
            "Epoch 10/10\n",
            "150/150 [==============================] - 6s 39ms/step - loss: 0.0359 - accuracy: 0.9892 - val_loss: 0.7741 - val_accuracy: 0.8018\n",
            "782/782 [==============================] - 12s 12ms/step - loss: 0.4349 - accuracy: 0.8110\n",
            "Test acc: 0.811\n"
          ]
        }
      ],
      "source": [
        "inputs = keras.Input(shape=(None,), dtype=\"int64\")\n",
        "embedded = layers.Embedding(\n",
        "    input_dim=max_tokens, output_dim=256, mask_zero=True)(inputs)\n",
        "x = layers.Bidirectional(layers.LSTM(32))(embedded)\n",
        "x = layers.Dropout(0.5)(x)\n",
        "outputs = layers.Dense(1, activation=\"sigmoid\")(x)\n",
        "model = keras.Model(inputs, outputs)\n",
        "model.compile(optimizer=\"rmsprop\",\n",
        "              loss=\"binary_crossentropy\",\n",
        "              metrics=[\"accuracy\"])\n",
        "model.summary()\n",
        "\n",
        "callbacks = [\n",
        "    keras.callbacks.ModelCheckpoint(\"embeddings_bidir_gru_with_masking.x\",\n",
        "                                    save_best_only=True)\n",
        "]\n",
        "model.fit(int_train_ds, validation_data=int_val_ds, epochs=10, callbacks=callbacks)\n",
        "model = keras.models.load_model(\"embeddings_bidir_gru_with_masking.x\")\n",
        "print(f\"Test acc: {model.evaluate(int_test_ds)[1]:.3f}\")"
      ]
    },
    {
      "cell_type": "markdown",
      "metadata": {
        "id": "o86_AagPnInn"
      },
      "source": [
        "***Using pretrained word embeddings***"
      ]
    },
    {
      "cell_type": "code",
      "execution_count": 11,
      "metadata": {
        "colab": {
          "base_uri": "https://localhost:8080/"
        },
        "id": "-mN0wzxSDk51",
        "outputId": "731b9084-a1a5-412f-f754-14e0229f9fea"
      },
      "outputs": [
        {
          "name": "stdout",
          "output_type": "stream",
          "text": [
            "--2023-11-28 01:29:15--  http://nlp.stanford.edu/data/glove.6B.zip\n",
            "Resolving nlp.stanford.edu (nlp.stanford.edu)... 171.64.67.140\n",
            "Connecting to nlp.stanford.edu (nlp.stanford.edu)|171.64.67.140|:80... connected.\n",
            "HTTP request sent, awaiting response... 302 Found\n",
            "Location: https://nlp.stanford.edu/data/glove.6B.zip [following]\n",
            "--2023-11-28 01:29:15--  https://nlp.stanford.edu/data/glove.6B.zip\n",
            "Connecting to nlp.stanford.edu (nlp.stanford.edu)|171.64.67.140|:443... connected.\n",
            "HTTP request sent, awaiting response... 301 Moved Permanently\n",
            "Location: https://downloads.cs.stanford.edu/nlp/data/glove.6B.zip [following]\n",
            "--2023-11-28 01:29:16--  https://downloads.cs.stanford.edu/nlp/data/glove.6B.zip\n",
            "Resolving downloads.cs.stanford.edu (downloads.cs.stanford.edu)... 171.64.64.22\n",
            "Connecting to downloads.cs.stanford.edu (downloads.cs.stanford.edu)|171.64.64.22|:443... connected.\n",
            "HTTP request sent, awaiting response... 200 OK\n",
            "Length: 862182613 (822M) [application/zip]\n",
            "Saving to: ‘glove.6B.zip’\n",
            "\n",
            "glove.6B.zip        100%[===================>] 822.24M  5.14MB/s    in 3m 2s   \n",
            "\n",
            "2023-11-28 01:32:19 (4.51 MB/s) - ‘glove.6B.zip’ saved [862182613/862182613]\n",
            "\n"
          ]
        }
      ],
      "source": [
        "!wget http://nlp.stanford.edu/data/glove.6B.zip\n",
        "!unzip -q glove.6B.zip"
      ]
    },
    {
      "cell_type": "markdown",
      "metadata": {
        "id": "X835rtwDnk6Z"
      },
      "source": [
        "Parsing the GloVe word-embeddings file"
      ]
    },
    {
      "cell_type": "code",
      "execution_count": 12,
      "metadata": {
        "colab": {
          "base_uri": "https://localhost:8080/"
        },
        "id": "MOLlubx2Dk_7",
        "outputId": "4e796159-a3d5-4295-db87-ccd6f2437a36"
      },
      "outputs": [
        {
          "name": "stdout",
          "output_type": "stream",
          "text": [
            "Found 400000 word vectors.\n"
          ]
        }
      ],
      "source": [
        "import numpy as np\n",
        "path_to_glove_file = \"glove.6B.100d.txt\"\n",
        "\n",
        "embeddings_index = {}\n",
        "with open(path_to_glove_file) as f:\n",
        "    for line in f:\n",
        "        word, coefs = line.split(maxsplit=1)\n",
        "        coefs = np.fromstring(coefs, \"f\", sep=\" \")\n",
        "        embeddings_index[word] = coefs\n",
        "\n",
        "print(f\"Found {len(embeddings_index)} word vectors.\")"
      ]
    },
    {
      "cell_type": "markdown",
      "metadata": {
        "id": "RRyuVIv_nofQ"
      },
      "source": [
        "Preparing the GloVe word-embeddings matrix"
      ]
    },
    {
      "cell_type": "code",
      "execution_count": 13,
      "metadata": {
        "id": "qiz6_gW3EaO0"
      },
      "outputs": [],
      "source": [
        "embedding_dim = 100\n",
        "\n",
        "vocabulary = text_vectorization.get_vocabulary()\n",
        "word_index = dict(zip(vocabulary, range(len(vocabulary))))\n",
        "\n",
        "embedding_matrix = np.zeros((max_tokens, embedding_dim))\n",
        "for word, i in word_index.items():\n",
        "    if i < max_tokens:\n",
        "        embedding_vector = embeddings_index.get(word)\n",
        "    if embedding_vector is not None:\n",
        "        embedding_matrix[i] = embedding_vector"
      ]
    },
    {
      "cell_type": "code",
      "execution_count": 14,
      "metadata": {
        "id": "XvhY89MEEaVf"
      },
      "outputs": [],
      "source": [
        "embedding_layer = layers.Embedding(\n",
        "    max_tokens,\n",
        "    embedding_dim,\n",
        "    embeddings_initializer=keras.initializers.Constant(embedding_matrix),\n",
        "    trainable=False,\n",
        "    mask_zero=True,\n",
        ")"
      ]
    },
    {
      "cell_type": "markdown",
      "metadata": {
        "id": "a1WNTUOnnx_e"
      },
      "source": [
        "**Model that uses a pretrained Embedding layer**"
      ]
    },
    {
      "cell_type": "code",
      "execution_count": 15,
      "metadata": {
        "colab": {
          "base_uri": "https://localhost:8080/"
        },
        "id": "lom9Mui-EaZ-",
        "outputId": "12f61f30-ec83-4b6c-bfb5-e66cd2bbdbd5"
      },
      "outputs": [
        {
          "name": "stdout",
          "output_type": "stream",
          "text": [
            "Model: \"model_4\"\n",
            "_________________________________________________________________\n",
            " Layer (type)                Output Shape              Param #   \n",
            "=================================================================\n",
            " input_5 (InputLayer)        [(None, None)]            0         \n",
            "                                                                 \n",
            " embedding_4 (Embedding)     (None, None, 100)         2000000   \n",
            "                                                                 \n",
            " bidirectional_4 (Bidirecti  (None, 64)                34048     \n",
            " onal)                                                           \n",
            "                                                                 \n",
            " dropout_4 (Dropout)         (None, 64)                0         \n",
            "                                                                 \n",
            " dense_4 (Dense)             (None, 1)                 65        \n",
            "                                                                 \n",
            "=================================================================\n",
            "Total params: 2034113 (7.76 MB)\n",
            "Trainable params: 34113 (133.25 KB)\n",
            "Non-trainable params: 2000000 (7.63 MB)\n",
            "_________________________________________________________________\n",
            "Epoch 1/10\n",
            "150/150 [==============================] - 44s 225ms/step - loss: 0.6753 - accuracy: 0.5681 - val_loss: 0.6299 - val_accuracy: 0.6316\n",
            "Epoch 2/10\n",
            "150/150 [==============================] - 32s 216ms/step - loss: 0.6041 - accuracy: 0.6754 - val_loss: 0.5597 - val_accuracy: 0.7138\n",
            "Epoch 3/10\n",
            "150/150 [==============================] - 32s 212ms/step - loss: 0.5543 - accuracy: 0.7131 - val_loss: 0.5238 - val_accuracy: 0.7360\n",
            "Epoch 4/10\n",
            "150/150 [==============================] - 35s 236ms/step - loss: 0.5270 - accuracy: 0.7433 - val_loss: 0.5142 - val_accuracy: 0.7526\n",
            "Epoch 5/10\n",
            "150/150 [==============================] - 32s 216ms/step - loss: 0.4969 - accuracy: 0.7621 - val_loss: 0.4789 - val_accuracy: 0.7692\n",
            "Epoch 6/10\n",
            "150/150 [==============================] - 33s 218ms/step - loss: 0.4787 - accuracy: 0.7779 - val_loss: 0.4679 - val_accuracy: 0.7776\n",
            "Epoch 7/10\n",
            "150/150 [==============================] - 35s 235ms/step - loss: 0.4529 - accuracy: 0.7912 - val_loss: 0.4560 - val_accuracy: 0.7820\n",
            "Epoch 8/10\n",
            "150/150 [==============================] - 6s 37ms/step - loss: 0.4421 - accuracy: 0.7977 - val_loss: 0.4975 - val_accuracy: 0.7636\n",
            "Epoch 9/10\n",
            "150/150 [==============================] - 6s 38ms/step - loss: 0.4163 - accuracy: 0.8094 - val_loss: 0.4578 - val_accuracy: 0.7754\n",
            "Epoch 10/10\n",
            "150/150 [==============================] - 6s 40ms/step - loss: 0.4047 - accuracy: 0.8169 - val_loss: 0.4679 - val_accuracy: 0.7722\n",
            "782/782 [==============================] - 10s 10ms/step - loss: 0.4573 - accuracy: 0.7827\n",
            "Test acc: 0.783\n"
          ]
        }
      ],
      "source": [
        "inputs = keras.Input(shape=(None,), dtype=\"int64\")\n",
        "embedded = embedding_layer(inputs)\n",
        "x = layers.Bidirectional(layers.LSTM(32))(embedded)\n",
        "x = layers.Dropout(0.5)(x)\n",
        "outputs = layers.Dense(1, activation=\"sigmoid\")(x)\n",
        "model = keras.Model(inputs, outputs)\n",
        "model.compile(optimizer=\"rmsprop\",\n",
        "              loss=\"binary_crossentropy\",\n",
        "              metrics=[\"accuracy\"])\n",
        "model.summary()\n",
        "\n",
        "callbacks = [\n",
        "    keras.callbacks.ModelCheckpoint(\"glove_embeddings_sequence_model.x\",\n",
        "                                    save_best_only=True)\n",
        "]\n",
        "model.fit(int_train_ds, validation_data=int_val_ds, epochs=10, callbacks=callbacks)\n",
        "model = keras.models.load_model(\"glove_embeddings_sequence_model.x\")\n",
        "print(f\"Test acc: {model.evaluate(int_test_ds)[1]:.3f}\")"
      ]
    }
  ],
  "metadata": {
    "accelerator": "GPU",
    "colab": {
      "gpuClass": "premium",
      "include_colab_link": true,
      "provenance": []
    },
    "gpuClass": "premium",
    "kernelspec": {
      "display_name": "Python 3",
      "name": "python3"
    },
    "language_info": {
      "name": "python"
    }
  },
  "nbformat": 4,
  "nbformat_minor": 0
}
